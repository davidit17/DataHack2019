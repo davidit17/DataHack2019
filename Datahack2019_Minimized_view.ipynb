{
 "cells": [
  {
   "cell_type": "code",
   "execution_count": 2,
   "metadata": {},
   "outputs": [],
   "source": [
    "\"\"\"\n",
    "TODO:\n",
    "\n",
    "17.group per events , users ✓ \n",
    "18.columns to drop ✓\n",
    "19.target encoding city region ✓\n",
    "\n",
    "* Subs\n",
    "* events\n",
    "*\n",
    "* NN @keras\n",
    "* features \n",
    "* hyperpar tune + grid search // random search\n",
    "* \n",
    "* cat cols with catboost &lgbm\n",
    "*pep8\n",
    "\n",
    "\"\"\";"
   ]
  },
  {
   "cell_type": "code",
   "execution_count": 3,
   "metadata": {},
   "outputs": [
    {
     "name": "stderr",
     "output_type": "stream",
     "text": [
      "C:\\Users\\python\\Anaconda3\\lib\\site-packages\\sklearn\\ensemble\\weight_boosting.py:29: DeprecationWarning: numpy.core.umath_tests is an internal NumPy module and should not be imported. It will be removed in a future NumPy release.\n",
      "  from numpy.core.umath_tests import inner1d\n"
     ]
    }
   ],
   "source": [
    "import os\n",
    "import time\n",
    "import numpy as np\n",
    "import pandas as pd\n",
    "import datetime\n",
    "\n",
    "from sklearn.model_selection import GridSearchCV\n",
    "from sklearn import linear_model\n",
    "from sklearn.model_selection import train_test_split\n",
    "\n",
    "from sklearn.ensemble import RandomForestClassifier\n",
    "from sklearn.linear_model import LogisticRegression\n",
    "\n",
    "from sklearn.metrics import confusion_matrix\n",
    "from sklearn.metrics import classification_report\n",
    "from sklearn.metrics import accuracy_score, precision_score, recall_score, f1_score\n",
    "from sklearn.metrics import matthews_corrcoef as mcc\n",
    "\n",
    "import seaborn as sns\n",
    "import matplotlib.pyplot as plt\n",
    "\n",
    "pd.set_option('display.max_rows', 65)\n",
    "pd.set_option('display.max_columns', 55)"
   ]
  },
  {
   "cell_type": "code",
   "execution_count": 63,
   "metadata": {},
   "outputs": [],
   "source": [
    "printHeads = 0\n",
    "plotGraphs = 0"
   ]
  },
  {
   "cell_type": "code",
   "execution_count": 64,
   "metadata": {},
   "outputs": [],
   "source": [
    "if printHeads:\n",
    "    display(os.listdir())"
   ]
  },
  {
   "cell_type": "code",
   "execution_count": 65,
   "metadata": {},
   "outputs": [],
   "source": [
    "if printHeads and 0:\n",
    "    csvs = (x for x in os.listdir() if x.endswith('.csv'))\n",
    "    for a in csvs:\n",
    "        print(a)\n",
    "        display(pd.read_csv(a,nrows = 5).head(3))\n",
    "        print(\"-----------------\"*7)"
   ]
  },
  {
   "cell_type": "code",
   "execution_count": 66,
   "metadata": {},
   "outputs": [
    {
     "name": "stderr",
     "output_type": "stream",
     "text": [
      "C:\\Users\\python\\Anaconda3\\lib\\site-packages\\IPython\\core\\interactiveshell.py:2785: DtypeWarning: Columns (24,25) have mixed types. Specify dtype option on import or set low_memory=False.\n",
      "  interactivity=interactivity, compiler=compiler, result=result)\n",
      "C:\\Users\\python\\Anaconda3\\lib\\site-packages\\numpy\\lib\\arraysetops.py:568: FutureWarning: elementwise comparison failed; returning scalar instead, but in the future will perform elementwise comparison\n",
      "  mask |= (ar1 == a)\n"
     ]
    }
   ],
   "source": [
    "Loadcsvs = 1\n",
    "if Loadcsvs:\n",
    "    train_accounts = pd.read_csv('train_accounts.csv',parse_dates=[2,4,5,10],index_col=[0])\n",
    "    train_users = pd.read_csv('train_users.csv',parse_dates=[4,8])\n",
    "    #train_events = pd.read_csv('train_events',parse_dates=[0]) \n",
    "    train_subscriptions = pd.read_csv('train_subscriptions.csv')\n",
    "\n",
    "    #test\n",
    "    test_accounts = pd.read_csv('test_accounts.csv',parse_dates=[2,4,5,10],index_col=[0])\n",
    "    test_users = pd.read_csv('test_users.csv',parse_dates=[4,8])\n",
    "    #test_events = pd.read_csv('test_events.csv',parse_dates=[0])\n",
    "    test_subscriptions = pd.read_csv('test_subscriptions.csv')"
   ]
  },
  {
   "cell_type": "code",
   "execution_count": 67,
   "metadata": {},
   "outputs": [],
   "source": [
    "# dataframe info stats\n",
    "def stats(data):\n",
    "    \n",
    "    maxx = []\n",
    "    minn = []\n",
    "    for i in data.columns:\n",
    "        maxx.append(data[i].value_counts().max())\n",
    "        minn.append(data[i].value_counts().min())\n",
    "\n",
    "    return pd.DataFrame(\n",
    "        {'nunique': data.nunique(),\n",
    "         'len': len(data),\n",
    "         'nunique/len': data.nunique()/len(data),\n",
    "         'types':data.dtypes,\n",
    "         'Nulls' : data.isna().sum(),\n",
    "         'Nullpercent' : data.isna().sum()/len(data),\n",
    "         \"Value counts Max\": maxx,\n",
    "         'Value counts Min':minn \n",
    "        },\n",
    "        columns = ['nunique', 'len', 'nunique/len','types','Nulls',\n",
    "                   'Nullpercent',\"Value counts Max\",'Value counts Min']).\\\n",
    "        sort_values(by ='nunique',ascending = False)"
   ]
  },
  {
   "cell_type": "code",
   "execution_count": 68,
   "metadata": {},
   "outputs": [],
   "source": [
    "# values in test not exist in train \n",
    "def traintestdiffs(df_train,dt_test,numofunique=100):\n",
    "    for x in dt_test.columns:\n",
    "        if (df_train[x].nunique() < numofunique):\n",
    "            if np.setdiff1d(dt_test[x].astype(str).unique(),df_train[x].astype(str).unique()).size > 0 :\n",
    "                print(x,\" ::: \",np.setdiff1d(dt_test[x].astype(str).unique(),df_train[x].astype(str).unique()))"
   ]
  },
  {
   "cell_type": "markdown",
   "metadata": {},
   "source": [
    "# accounts"
   ]
  },
  {
   "cell_type": "code",
   "execution_count": 69,
   "metadata": {},
   "outputs": [],
   "source": [
    "if printHeads:\n",
    "    display(stats(train_accounts))"
   ]
  },
  {
   "cell_type": "code",
   "execution_count": 70,
   "metadata": {},
   "outputs": [],
   "source": [
    "if printHeads:\n",
    "    display(train_accounts.head().T)"
   ]
  },
  {
   "cell_type": "code",
   "execution_count": 71,
   "metadata": {},
   "outputs": [],
   "source": [
    "if plotGraphs:\n",
    "    print(train_accounts.lead_score.value_counts())\n",
    "    train_accounts['lead_score'].value_counts().plot(kind = 'bar',figsize = (4, 4))"
   ]
  },
  {
   "cell_type": "code",
   "execution_count": 72,
   "metadata": {},
   "outputs": [],
   "source": [
    "if plotGraphs:\n",
    "    train_accounts['max_team_size'].hist(figsize = (4, 4))\n",
    "    plt.show()"
   ]
  },
  {
   "cell_type": "code",
   "execution_count": 73,
   "metadata": {},
   "outputs": [],
   "source": [
    "if plotGraphs:\n",
    "    sns.set(rc={'figure.figsize':(6,6)})\n",
    "    ax = sns.countplot(x=\"os\", data=train_accounts, hue = 'lead_score',\n",
    "                       order=train_accounts['os'].value_counts().iloc[:6].index)"
   ]
  },
  {
   "cell_type": "code",
   "execution_count": 74,
   "metadata": {},
   "outputs": [],
   "source": [
    "# check unique values in object type columns\n",
    "if printHeads:\n",
    "    for x in train_accounts.columns:\n",
    "        if (train_accounts[x].nunique() < 100 and train_accounts[x].dtype == 'O'):\n",
    "            print (x,\" -- \" ,train_accounts[x].unique())"
   ]
  },
  {
   "cell_type": "code",
   "execution_count": 75,
   "metadata": {},
   "outputs": [
    {
     "name": "stdout",
     "output_type": "stream",
     "text": [
      "done\n"
     ]
    }
   ],
   "source": [
    "def prepro(df,targetenco = False):\n",
    "    \n",
    "    \n",
    "    if targetenco:\n",
    "        def targetenc(df,column):\n",
    "            #lead score only in train data \n",
    "            oss = train_accounts.groupby(column)['lead_score'].agg(['sum','count']).sort_values(('count'),ascending=False)\n",
    "            oss['Lead_score_rate'] = oss['sum']/oss['count']\n",
    "            d = dict(zip(oss.index,oss.Lead_score_rate))\n",
    "            df[column] = df[column].map(d).fillna(0)\n",
    "            return df\n",
    "\n",
    "        #df = targetenc(df,'country')\n",
    "        df = targetenc(df,'os')\n",
    "    \n",
    "    else:\n",
    "        catcols = ['region', 'country']\n",
    "        df = df.drop(catcols,axis = 1)\n",
    "        \n",
    "    \n",
    "#acc drop cols\n",
    "    \n",
    "    ToDrop = ['account_name','has_logo']\n",
    "    df = df.drop(ToDrop,axis = 1)\n",
    "    \n",
    "#fillna\n",
    "    \n",
    "    # churn date not null but reason yes => missing reason fill 0\n",
    "    df.loc[df['churn_date'].notnull() & df['churn_reason'].isna(), 'churn_reason'] = 0\n",
    "\n",
    "    # churn date and reason  null => didnt churned -1/-99\n",
    "    df.loc[df['churn_date'].isna() & df['churn_reason'].isna(), 'churn_reason'] = -1\n",
    "    \n",
    "    #fill -1\n",
    "    MinusOne = ['plan_id','max_team_size', 'min_team_size','mrr','company_size']\n",
    "    df[MinusOne] = df[MinusOne].fillna(-1)\n",
    "    \n",
    "    # started at check\n",
    "    df['churn_date'] = df['churn_date'].fillna(value=pd.to_datetime('1/1/2020'))\n",
    "    df['subscription_started_at'] = df['subscription_started_at'].fillna(value=pd.to_datetime('1/1/2010'))\n",
    "\n",
    "    # fill unknown\n",
    "    unknowncols = ['browser','os','utm_cluster_id','industry','payment_currency','user_goal','user_description']\n",
    "    df[unknowncols] = df[unknowncols].fillna('UnKnown')\n",
    "    \n",
    "    # cat to numbers -- team size\n",
    "    TsDict = {\n",
    "    \n",
    "                '0':0,\n",
    "                '2':2,\n",
    "                '2-5':3.5,\n",
    "                '4':4,\n",
    "                '8':8,\n",
    "                '6-10':8.1,\n",
    "                '11-15':13.1,\n",
    "                '16-25':20.5,\n",
    "                '26-50':38.1,\n",
    "                '51-100':75.5, \n",
    "                '101-500':300.5,\n",
    "                '500 ':500,\n",
    "                np.nan:-7\n",
    "            }\n",
    "    TsDict.update(dict.fromkeys(['1', '1-1', 'Solo yo','Moi uniquement','Nur ich','Apenas eu'],1))\n",
    "    df['team_size'] = df['team_size'].map(TsDict).fillna(df['team_size']).astype('float64')\n",
    "    \n",
    "# date to int \n",
    "    \n",
    "    datecols = ['created_at','trial_start','churn_date','subscription_started_at']\n",
    "    for col in datecols:\n",
    "        df[col] = pd.to_datetime(df[col]).astype(np.int64)\n",
    "    \n",
    "    # ToDo change (50)\n",
    "    df['time_diff'] = df['time_diff'].fillna(50)\n",
    "    \n",
    "# create dummies \n",
    "    \n",
    "    ColsToDummy = ['device','os','browser','payment_currency','industry','utm_cluster_id','user_goal','user_description','team_size']\n",
    "    #df = pd.get_dummies(df, columns=ColsToDummy)\n",
    "    \n",
    "    return df\n",
    "\n",
    "\n",
    "train_accounts_pr = prepro(train_accounts)\n",
    "test_accounts_pr = prepro(test_accounts)\n",
    "print('done');"
   ]
  },
  {
   "cell_type": "markdown",
   "metadata": {},
   "source": [
    "# users"
   ]
  },
  {
   "cell_type": "code",
   "execution_count": 76,
   "metadata": {},
   "outputs": [],
   "source": [
    "if printHeads:\n",
    "    display(stats(train_users))"
   ]
  },
  {
   "cell_type": "code",
   "execution_count": 77,
   "metadata": {},
   "outputs": [
    {
     "name": "stdout",
     "output_type": "stream",
     "text": [
      "Done\n"
     ]
    }
   ],
   "source": [
    "def usersprepro(df):\n",
    "    \n",
    "#users drop cols\n",
    "    \n",
    "    ToDrop = ['has_phone','has_photo','email','country','serial_number','region','city','name']\n",
    "    df = df.drop(ToDrop,axis = 1)\n",
    "    \n",
    "#fillna\n",
    "\n",
    "    # fill unknown\n",
    "    unknowncols = ['device','os','browser','seniority','language']\n",
    "    df[unknowncols] = df[unknowncols].fillna('UnKnown')\n",
    "    \n",
    "    #fill data na TODO : change 112020\n",
    "    df['became_active_at'] = df['became_active_at'].fillna(value=pd.to_datetime('1/1/2020'))\n",
    "    df['Created_Active_delta'] = (df['became_active_at']-df['created_at'])\n",
    "    \n",
    "    #date to int ## TODO : check \n",
    "    datecols = ['created_at','became_active_at']\n",
    "    for col in datecols:\n",
    "        df[col] = pd.to_datetime(df[col]).astype(np.int64)\n",
    "    \n",
    "    # ToDo change (50)\n",
    "    df['time_diff'] = df['time_diff'].fillna(50)\n",
    "    \n",
    "    # create dummies\n",
    "    ColsToDummy = ['device','os','browser','seniority','language']\n",
    "    #df = pd.get_dummies(df, columns=ColsToDummy)\n",
    "    \n",
    "    \n",
    "    return df\n",
    "\n",
    "train_users_pr = usersprepro(train_users)\n",
    "test_users_pr = usersprepro(test_users)\n",
    "print('Done')"
   ]
  },
  {
   "cell_type": "code",
   "execution_count": 78,
   "metadata": {},
   "outputs": [],
   "source": [
    "if printHeads:\n",
    "    display(stats(train_users_pr))"
   ]
  },
  {
   "cell_type": "code",
   "execution_count": 79,
   "metadata": {},
   "outputs": [],
   "source": [
    "# check unique values in object type columns\n",
    "if printHeads:\n",
    "    for x in train_users.columns:\n",
    "        if (train_users[x].nunique() < 100 and train_users[x].dtype == 'O'):\n",
    "            print (x,\" -- \" ,train_users[x].nunique())"
   ]
  },
  {
   "cell_type": "code",
   "execution_count": 80,
   "metadata": {},
   "outputs": [],
   "source": [
    "if printHeads:\n",
    "    display(train_users_pr.head().T)"
   ]
  },
  {
   "cell_type": "code",
   "execution_count": 81,
   "metadata": {},
   "outputs": [
    {
     "name": "stdout",
     "output_type": "stream",
     "text": [
      "1308854\n",
      "68822\n",
      "done\n"
     ]
    }
   ],
   "source": [
    "# group users by account\n",
    "def groupusers(df):\n",
    "    \n",
    "    # get admin id for each account , if more than one take first\n",
    "    admins = df[['account_id','user_id']][df.is_admin==1]\\\n",
    "        .set_index('account_id').add_prefix('admin_')\n",
    "    # For now TODO \n",
    "    admins = admins[~admins.index.duplicated(keep='first')]\n",
    "    \n",
    "    # get first user for each account\n",
    "    first_user_per_account = df[['account_id','user_id','became_active_at']].\\\n",
    "        sort_values(by=['account_id','user_id','became_active_at'],ascending = True).\\\n",
    "        groupby('account_id').first().add_prefix('first_')\n",
    "\n",
    "    # group users per account\n",
    "    grouped_df = df.groupby(by='account_id')\\\n",
    "                .agg({'user_id':['count'],\n",
    "                      'became_active_at':['min','max'],\n",
    "                      'Created_Active_delta':['min','max'],\n",
    "                      'created_at':['min','max'],\n",
    "                      'enabled':['mean','max'],\n",
    "                      'is_admin':['mean'],\n",
    "                      })\n",
    "    grouped_df.columns = ['_'.join(col) for col in grouped_df.columns]\n",
    "    \n",
    "    # merge \n",
    "    merged = grouped_df.merge(admins,left_index=True,right_index=True,how = 'inner',validate=\"1:1\")\\\n",
    "              .merge(first_user_per_account,left_index=True,right_index=True,how = 'inner',validate=\"1:1\")\n",
    "    # TODO check\n",
    "    colsToUse = ['user_id_count', 'became_active_at_min', 'became_active_at_max',\n",
    "       'Created_Active_delta_min', 'Created_Active_delta_max',\n",
    "       'created_at_min', 'created_at_max', 'enabled_mean', 'enabled_max',\n",
    "       'is_admin_mean', \n",
    "       'first_became_active_at']\n",
    "    \n",
    "    merged = merged[colsToUse]\n",
    "    return merged\n",
    "\n",
    "\n",
    "train_users_gr= groupusers(train_users_pr)\n",
    "print(len(train_users_gr))\n",
    "test_users_gr= groupusers(test_users_pr)\n",
    "print(len(test_users_gr))\n",
    "\n",
    "print('done')"
   ]
  },
  {
   "cell_type": "markdown",
   "metadata": {},
   "source": [
    "# events"
   ]
  },
  {
   "cell_type": "markdown",
   "metadata": {},
   "source": [
    "Events csv file too large.\n",
    "I Load it in other notebook (events.ipynb). group it by account and user and export it to smaller csv.\n",
    "Here i load the grouped csv."
   ]
  },
  {
   "cell_type": "code",
   "execution_count": 82,
   "metadata": {},
   "outputs": [],
   "source": [
    "train_events_gr_usr = pd.read_csv('train_events_gr_usr.csv',parse_dates=[26,27])\n",
    "test_events_gr_usr = pd.read_csv('test_events_gr_usr.csv',parse_dates=[26,27])"
   ]
  },
  {
   "cell_type": "code",
   "execution_count": 83,
   "metadata": {},
   "outputs": [],
   "source": [
    "if printHeads:\n",
    "    display(train_events_gr_usr.head().T)"
   ]
  },
  {
   "cell_type": "code",
   "execution_count": 84,
   "metadata": {},
   "outputs": [],
   "source": [
    "if printHeads:\n",
    "    display(stats(train_events_gr_usr))"
   ]
  },
  {
   "cell_type": "markdown",
   "metadata": {},
   "source": [
    "### group per account"
   ]
  },
  {
   "cell_type": "code",
   "execution_count": 85,
   "metadata": {},
   "outputs": [
    {
     "name": "stdout",
     "output_type": "stream",
     "text": [
      "done\n"
     ]
    }
   ],
   "source": [
    "# group events from per account-user to account\n",
    "def eventsperaccount(df):\n",
    "    \n",
    "    #sum all numeric values per account\n",
    "    accounts_events_sum = df.groupby('account_id').sum().drop('user_id',axis=1)\n",
    "    \n",
    "    #group Non-sum features\n",
    "    accounts_evenst_dates = df.groupby(by=['account_id'])\\\n",
    "                .agg({ 'max_date':['max'],\n",
    "                      'min_date':['min'],\n",
    "                      'nunique_date':['max','min','mean'],\n",
    "                      'UsageLength':['max','min','mean'],\n",
    "                      'user_id':['nunique']\n",
    "                      })\n",
    "    accounts_evenst_dates.columns = ['_'.join(col) for col in accounts_evenst_dates.columns]    \n",
    "    \n",
    "    #rename columns\n",
    "    Names = {\"max_date_max\":\"max_event_date\",\n",
    "         \"min_date_min\":\"min_event_date\",\n",
    "         \"user_id_nunique\":\"numOfusers\"}\n",
    "    accounts_evenst_dates.rename(columns=Names,inplace=True)\n",
    "\n",
    "    #join both DataFrames\n",
    "    merged_acc_events = accounts_events_sum.merge(accounts_evenst_dates,how='inner',left_index=True,right_index=True,validate='1:1')\n",
    "    \n",
    "    #time to int TODO:check\n",
    "    datecols = ['max_event_date','min_event_date']\n",
    "    for col in datecols:\n",
    "        merged_acc_events[col] = pd.to_datetime(merged_acc_events[col]).astype(np.int64)\n",
    "        \n",
    "    return merged_acc_events\n",
    "\n",
    "\n",
    "train_events_gr_acc = eventsperaccount(train_events_gr_usr)\n",
    "test_events_gr_acc = eventsperaccount(test_events_gr_usr)\n",
    "print('done')"
   ]
  },
  {
   "cell_type": "markdown",
   "metadata": {},
   "source": [
    "# subscriptions"
   ]
  },
  {
   "cell_type": "code",
   "execution_count": 86,
   "metadata": {},
   "outputs": [],
   "source": [
    "if printHeads:\n",
    "    display(train_subscriptions.head().T)"
   ]
  },
  {
   "cell_type": "code",
   "execution_count": 87,
   "metadata": {},
   "outputs": [],
   "source": [
    "if printHeads:\n",
    "    display(stats(train_subscriptions))"
   ]
  },
  {
   "cell_type": "code",
   "execution_count": 88,
   "metadata": {},
   "outputs": [
    {
     "name": "stdout",
     "output_type": "stream",
     "text": [
      "37.436163663864136  Seconds\n",
      "2.2174692153930664  Seconds\n",
      "done\n"
     ]
    }
   ],
   "source": [
    "#preprocessing for subscription TODO\n",
    "def subsprepro(df):\n",
    "    start_time = time.time()\n",
    "    \n",
    "    #group by account #TODO currency,payment type\n",
    "    subsGrouped  = df.groupby(by='account_id')\\\n",
    "                .agg({'invoice_charge_amount':['sum'],\n",
    "                      'event_type':['nunique'],\n",
    "                      'mrr_gain':['sum'],\n",
    "                      'event_happened_at':['min','max','count']\n",
    "                      #'currency':pd.Series.mode,\n",
    "                      #'payment_type':pd.Series.mode\n",
    "                      });\n",
    "    subsGrouped.columns = ['_'.join(col) for col in subsGrouped.columns]\n",
    "    \n",
    "    \n",
    "    #subsGrouped = pd.get_dummies(subsGrouped,columns = ['currency_mode', 'payment_type_mode'])\n",
    "    \n",
    "    print (time.time()-start_time,' Seconds')\n",
    "    return subsGrouped\n",
    "\n",
    "\n",
    "train_subscriptions_pr = subsprepro(train_subscriptions)\n",
    "test_subscriptions_pr = subsprepro(test_subscriptions)\n",
    "print('done')"
   ]
  },
  {
   "cell_type": "markdown",
   "metadata": {},
   "source": [
    "# visualization"
   ]
  },
  {
   "cell_type": "code",
   "execution_count": 89,
   "metadata": {},
   "outputs": [],
   "source": [
    "if plotGraphs:\n",
    "    corrmat = train_accounts_pr.corr()\n",
    "    fig = plt.figure(figsize = (15, 15))\n",
    "\n",
    "    sns.heatmap(corrmat, square = True)\n",
    "    plt.show()"
   ]
  },
  {
   "cell_type": "code",
   "execution_count": 90,
   "metadata": {},
   "outputs": [],
   "source": [
    "if plotGraphs:\n",
    "    ax = sns.countplot(x=\"payment_currency\", data=train_accounts_pr,hue = 'lead_score',\n",
    "                       order=train_accounts_pr['payment_currency'].value_counts().iloc[:6].index)"
   ]
  },
  {
   "cell_type": "code",
   "execution_count": 91,
   "metadata": {},
   "outputs": [],
   "source": [
    "if plotGraphs:\n",
    "    ax = sns.countplot(x=\"os\", data=train_accounts_pr,hue = 'lead_score',\n",
    "                       order=train_accounts_pr['os'].value_counts().iloc[:6].index)"
   ]
  },
  {
   "cell_type": "markdown",
   "metadata": {},
   "source": [
    "## merge tables "
   ]
  },
  {
   "cell_type": "code",
   "execution_count": 92,
   "metadata": {},
   "outputs": [],
   "source": [
    "#drop duplicates\n",
    "train_accounts_pr = train_accounts_pr.loc[~train_accounts_pr.index.duplicated(keep='first')]\n",
    "\n",
    "#train\n",
    "panel_train = train_accounts_pr.merge(train_users_gr,left_index=True,right_index=True,how = 'inner',validate=\"1:1\").\\\n",
    "                                merge(train_events_gr_acc,left_index=True,right_index=True,how = 'inner',validate=\"1:1\").\\\n",
    "                                merge(train_subscriptions_pr,left_index=True,right_index=True,how = 'left',validate=\"1:1\")\n",
    "\n",
    "#test\n",
    "panel_test = test_accounts_pr.merge(test_users_gr,left_index=True,right_index=True,how = 'inner',validate=\"1:1\").\\\n",
    "                            merge(test_events_gr_acc,left_index=True,right_index=True,how = 'inner',validate=\"1:1\").\\\n",
    "                            merge(test_subscriptions_pr,left_index=True,right_index=True,how = 'left',validate=\"1:1\")\n",
    "\n",
    "#after join fillna in subscription dafaframe\n",
    "colstofill = train_subscriptions_pr.columns.values\n",
    "\n",
    "panel_train[colstofill] = panel_train[colstofill].fillna(0,axis=1)\n",
    "panel_test[colstofill] = panel_test[colstofill].fillna(0,axis=1)"
   ]
  },
  {
   "cell_type": "code",
   "execution_count": 93,
   "metadata": {},
   "outputs": [],
   "source": [
    "if printHeads:\n",
    "    display(panel_train.info())"
   ]
  },
  {
   "cell_type": "code",
   "execution_count": 94,
   "metadata": {},
   "outputs": [],
   "source": [
    "# train eval split\n",
    "numerics = ['int16', 'int32', 'int64', 'float16', 'float32', 'float64','uint8']\n",
    "\n",
    "y = panel_train['lead_score']\n",
    "X = panel_train.select_dtypes(include=numerics).drop('lead_score',axis = 1)\n",
    "\n",
    "\n",
    "X_train, X_val, y_train, y_val = train_test_split(X,y, test_size = 0.2, random_state=17) ## test_size = 0.000001\n",
    "\n",
    "# test split\n",
    "\n",
    "X_test = panel_test.select_dtypes(include=numerics)"
   ]
  },
  {
   "cell_type": "markdown",
   "metadata": {},
   "source": [
    "# Fit model"
   ]
  },
  {
   "cell_type": "code",
   "execution_count": 95,
   "metadata": {},
   "outputs": [],
   "source": [
    "\"\"\"\n",
    "X_train\n",
    "X_val\n",
    "y_train\n",
    "y_val\n",
    "\n",
    "---------\n",
    "X_test\n",
    "y_pred\n",
    "\n",
    "\"\"\";"
   ]
  },
  {
   "cell_type": "code",
   "execution_count": 96,
   "metadata": {},
   "outputs": [],
   "source": [
    "def printMetrics(test,prediction):\n",
    "    \n",
    "    print(confusion_matrix(test, prediction))\n",
    "    print('#'*100)\n",
    "    print(classification_report(test, prediction))\n",
    "    \n",
    "#-----------------------------\n",
    "\n",
    "def runModel (modelname,X_train, y_train,X_test,y_test,printaccuracy=True):\n",
    "    \n",
    "    start_time = time.time()\n",
    "    \n",
    "    y_pred = modelname.fit(X_train, y_train).predict(X_test)\n",
    "    \n",
    "    if printaccuracy:\n",
    "        \n",
    "        print(modelname.__class__.__name__ +' running time : {} seconds '.format(time.time() - start_time ))\n",
    "        print('Accuracy of '+ modelname.__class__.__name__ +' on training set: {:.3f}'\n",
    "         .format(modelname.score(X_train, y_train)))\n",
    "        print('Accuracy of '+ modelname.__class__.__name__ +' on test set: {:.3f}'\n",
    "         .format(modelname.score(X_test, y_test)))\n",
    "    \n",
    "    return y_pred,modelname"
   ]
  },
  {
   "cell_type": "code",
   "execution_count": 97,
   "metadata": {},
   "outputs": [],
   "source": [
    "XGB = Rf = NB =  1\n",
    "\n",
    "LGBM = 1\n",
    "\n",
    "CB = 0"
   ]
  },
  {
   "cell_type": "code",
   "execution_count": 98,
   "metadata": {},
   "outputs": [
    {
     "name": "stdout",
     "output_type": "stream",
     "text": [
      "GaussianNB running time : 5.553636312484741 seconds \n",
      "Accuracy of GaussianNB on training set: 0.937\n",
      "Accuracy of GaussianNB on test set: 0.937\n",
      "####################################################################################################\n",
      "[[243733  11312]\n",
      " [  5175   1496]]\n",
      "####################################################################################################\n",
      "             precision    recall  f1-score   support\n",
      "\n",
      "          0       0.98      0.96      0.97    255045\n",
      "          1       0.12      0.22      0.15      6671\n",
      "\n",
      "avg / total       0.96      0.94      0.95    261716\n",
      "\n"
     ]
    }
   ],
   "source": [
    "from sklearn.naive_bayes import GaussianNB\n",
    "from sklearn.preprocessing import StandardScaler\n",
    "\n",
    "if NB:\n",
    "# Feature Scaling\n",
    "    sc_X = StandardScaler()\n",
    "    X_train_tr = sc_X.fit_transform(X_train)\n",
    "    X_val_tr = sc_X.transform(X_val)\n",
    "\n",
    "    classifier = GaussianNB()\n",
    "\n",
    "    y_pred,Model = runModel(classifier,X_train_tr, y_train,X_val_tr,y_val,printaccuracy=True)\n",
    "    print('#'*100)\n",
    "    printMetrics(y_val, y_pred)\n",
    "    NB_mcc = mcc(y_val, y_pred)\n",
    "    y_NB = y_pred.copy()"
   ]
  },
  {
   "cell_type": "code",
   "execution_count": 99,
   "metadata": {},
   "outputs": [
    {
     "name": "stdout",
     "output_type": "stream",
     "text": [
      "RandomForestClassifier running time : 219.43609142303467 seconds \n",
      "Accuracy of RandomForestClassifier on training set: 0.998\n",
      "Accuracy of RandomForestClassifier on test set: 0.978\n",
      "####################################################################################################\n",
      "[[254229    816]\n",
      " [  4883   1788]]\n",
      "####################################################################################################\n",
      "             precision    recall  f1-score   support\n",
      "\n",
      "          0       0.98      1.00      0.99    255045\n",
      "          1       0.69      0.27      0.39      6671\n",
      "\n",
      "avg / total       0.97      0.98      0.97    261716\n",
      "\n"
     ]
    }
   ],
   "source": [
    "# RF\n",
    "if Rf:\n",
    "   \n",
    "    RFC = RandomForestClassifier(random_state=17)\n",
    "    y_pred,Model = runModel(RFC,X_train, y_train,X_val,y_val,printaccuracy=True)\n",
    "    print('#'*100)\n",
    "    printMetrics(y_val, y_pred)\n",
    "    RF_mcc = mcc(y_val, y_pred)\n",
    "    y_RF = y_pred.copy()\n",
    "    RFModel = Model"
   ]
  },
  {
   "cell_type": "code",
   "execution_count": 100,
   "metadata": {},
   "outputs": [
    {
     "data": {
      "image/png": "[encoded data removed]",
      "text/plain": [
       "<Figure size 720x720 with 1 Axes>"
      ]
     },
     "metadata": {},
     "output_type": "display_data"
    }
   ],
   "source": [
    "if Rf:\n",
    "    features=X_train.columns\n",
    "    importances = RFC.feature_importances_\n",
    "    indices = np.argsort(importances)\n",
    "\n",
    "    plt.figure(figsize=(10,10))\n",
    "    plt.figure(1)\n",
    "    plt.title('Feature Importances')\n",
    "    plt.barh(range(len(indices)), importances[indices], color='b', align='center')\n",
    "    plt.yticks(range(len(indices)), features[indices])\n",
    "    plt.xlabel('Relative Importance')"
   ]
  },
  {
   "cell_type": "code",
   "execution_count": 101,
   "metadata": {},
   "outputs": [
    {
     "name": "stderr",
     "output_type": "stream",
     "text": [
      "C:\\Users\\python\\Anaconda3\\lib\\site-packages\\sklearn\\preprocessing\\label.py:151: DeprecationWarning: The truth value of an empty array is ambiguous. Returning False, but in future this will result in an error. Use `array.size > 0` to check that an array is not empty.\n",
      "  if diff:\n"
     ]
    },
    {
     "name": "stdout",
     "output_type": "stream",
     "text": [
      "XGBClassifier running time : 647.5072591304779 seconds \n"
     ]
    },
    {
     "name": "stderr",
     "output_type": "stream",
     "text": [
      "C:\\Users\\python\\Anaconda3\\lib\\site-packages\\sklearn\\preprocessing\\label.py:151: DeprecationWarning: The truth value of an empty array is ambiguous. Returning False, but in future this will result in an error. Use `array.size > 0` to check that an array is not empty.\n",
      "  if diff:\n"
     ]
    },
    {
     "name": "stdout",
     "output_type": "stream",
     "text": [
      "Accuracy of XGBClassifier on training set: 0.979\n"
     ]
    },
    {
     "name": "stderr",
     "output_type": "stream",
     "text": [
      "C:\\Users\\python\\Anaconda3\\lib\\site-packages\\sklearn\\preprocessing\\label.py:151: DeprecationWarning: The truth value of an empty array is ambiguous. Returning False, but in future this will result in an error. Use `array.size > 0` to check that an array is not empty.\n",
      "  if diff:\n"
     ]
    },
    {
     "name": "stdout",
     "output_type": "stream",
     "text": [
      "Accuracy of XGBClassifier on test set: 0.979\n",
      "####################################################################################################\n",
      "[[254261    784]\n",
      " [  4815   1856]]\n",
      "####################################################################################################\n",
      "             precision    recall  f1-score   support\n",
      "\n",
      "          0       0.98      1.00      0.99    255045\n",
      "          1       0.70      0.28      0.40      6671\n",
      "\n",
      "avg / total       0.97      0.98      0.97    261716\n",
      "\n",
      "0.43396054665175643\n"
     ]
    }
   ],
   "source": [
    "import xgboost as xgb\n",
    "\n",
    "if XGB:\n",
    "   \n",
    "    gbm = xgb.XGBClassifier(random_state=17)\n",
    "    y_pred,Model = runModel(gbm,X_train, y_train,X_val,y_val,printaccuracy=True)\n",
    "    print('#'*100)\n",
    "    printMetrics(y_val, y_pred)\n",
    "    print(mcc(y_val, y_pred))\n",
    "    y_XGB = y_pred.copy()\n",
    "    XGBModel = Model"
   ]
  },
  {
   "cell_type": "code",
   "execution_count": 102,
   "metadata": {},
   "outputs": [],
   "source": [
    "from catboost import CatBoostClassifier\n",
    "\n",
    "if CB:\n",
    "    \n",
    "    cbc = CatBoostClassifier(random_state=17)\n",
    "    y_pred,Model = runModel(cbc,X_train, y_train,X_val,y_val,printaccuracy=True)\n",
    "    print('#'*100)\n",
    "    printMetrics(y_val, y_pred)\n",
    "    y_CB = y_pred.copy()"
   ]
  },
  {
   "cell_type": "code",
   "execution_count": 103,
   "metadata": {},
   "outputs": [
    {
     "name": "stderr",
     "output_type": "stream",
     "text": [
      "C:\\Users\\python\\Anaconda3\\lib\\site-packages\\sklearn\\preprocessing\\label.py:151: DeprecationWarning: The truth value of an empty array is ambiguous. Returning False, but in future this will result in an error. Use `array.size > 0` to check that an array is not empty.\n",
      "  if diff:\n"
     ]
    },
    {
     "name": "stdout",
     "output_type": "stream",
     "text": [
      "LGBMClassifier running time : 129.52082300186157 seconds \n"
     ]
    },
    {
     "name": "stderr",
     "output_type": "stream",
     "text": [
      "C:\\Users\\python\\Anaconda3\\lib\\site-packages\\sklearn\\preprocessing\\label.py:151: DeprecationWarning: The truth value of an empty array is ambiguous. Returning False, but in future this will result in an error. Use `array.size > 0` to check that an array is not empty.\n",
      "  if diff:\n"
     ]
    },
    {
     "name": "stdout",
     "output_type": "stream",
     "text": [
      "Accuracy of LGBMClassifier on training set: 0.981\n"
     ]
    },
    {
     "name": "stderr",
     "output_type": "stream",
     "text": [
      "C:\\Users\\python\\Anaconda3\\lib\\site-packages\\sklearn\\preprocessing\\label.py:151: DeprecationWarning: The truth value of an empty array is ambiguous. Returning False, but in future this will result in an error. Use `array.size > 0` to check that an array is not empty.\n",
      "  if diff:\n"
     ]
    },
    {
     "name": "stdout",
     "output_type": "stream",
     "text": [
      "Accuracy of LGBMClassifier on test set: 0.980\n",
      "####################################################################################################\n",
      "[[253854   1191]\n",
      " [  4065   2606]]\n",
      "####################################################################################################\n",
      "             precision    recall  f1-score   support\n",
      "\n",
      "          0       0.98      1.00      0.99    255045\n",
      "          1       0.69      0.39      0.50      6671\n",
      "\n",
      "avg / total       0.98      0.98      0.98    261716\n",
      "\n",
      "0.5087478267681812\n"
     ]
    }
   ],
   "source": [
    "from lightgbm import LGBMModel,LGBMClassifier\n",
    "\n",
    "if LGBM:\n",
    "    \n",
    "    Lgb = LGBMClassifier(random_state=17)\n",
    "    y_pred,Model = runModel(Lgb,X_train, y_train,X_val,y_val,printaccuracy=True)\n",
    "    print('#'*100)\n",
    "    printMetrics(y_val, y_pred)\n",
    "    print(mcc(y_val, y_pred))\n",
    "    Y_Lgb = y_pred.copy()\n",
    "    "
   ]
  },
  {
   "cell_type": "markdown",
   "metadata": {},
   "source": [
    "# Predict"
   ]
  },
  {
   "cell_type": "code",
   "execution_count": 104,
   "metadata": {},
   "outputs": [
    {
     "name": "stderr",
     "output_type": "stream",
     "text": [
      "C:\\Users\\python\\Anaconda3\\lib\\site-packages\\sklearn\\preprocessing\\label.py:151: DeprecationWarning: The truth value of an empty array is ambiguous. Returning False, but in future this will result in an error. Use `array.size > 0` to check that an array is not empty.\n",
      "  if diff:\n"
     ]
    }
   ],
   "source": [
    "y_sub = Model.predict(X_test)"
   ]
  },
  {
   "cell_type": "code",
   "execution_count": 105,
   "metadata": {},
   "outputs": [
    {
     "name": "stdout",
     "output_type": "stream",
     "text": [
      "0: 67805\n",
      "1: 1010\n"
     ]
    }
   ],
   "source": [
    "print (\"0:\" ,np.bincount(y_sub)[0])\n",
    "print (\"1:\" ,np.bincount(y_sub)[1])"
   ]
  },
  {
   "cell_type": "markdown",
   "metadata": {},
   "source": [
    "## leader board results"
   ]
  },
  {
   "cell_type": "code",
   "execution_count": 109,
   "metadata": {},
   "outputs": [
    {
     "name": "stdout",
     "output_type": "stream",
     "text": [
      "0.522414421819635 0.5180755442329399\n",
      "----------------------------------\n",
      "AVG :  0.5202449830262874\n"
     ]
    }
   ],
   "source": [
    "LoadFroundTruth = 1\n",
    "\n",
    "if LoadFroundTruth:\n",
    "    #ground_truth_secret.to_csv('ground_truth_secret.csv') # download file from google colab and save as csv\n",
    "    ground_truth_secret = pd.read_csv('ground_truth_secret.csv',index_col=[0],header=None)\n",
    "    #ground_truth_public.to_csv('ground_truth_public.csv') # download file from google colab and save as csv\n",
    "    ground_truth_public = pd.read_csv('ground_truth_public.csv',index_col=[0],header=None)\n",
    "    ground_truth_public.index = ground_truth_public.index.astype('int64').astype('str')\n",
    "    ground_truth_secret.index = ground_truth_secret.index.astype('int64').astype('str')\n",
    "    \n",
    "    \n",
    "if 1:\n",
    "    \n",
    "    #prediction to results format:\n",
    "    \n",
    "    prediction_series = pd.Series(y_sub,index = X_test.index.astype('int64').astype('str')).rename(\"lead_score\")\n",
    "    \n",
    "    if ground_truth_public.index.isin(prediction_series.index).any():\n",
    "        public_prediction = prediction_series[ground_truth_public.index]\n",
    "    \n",
    "    public_prediction = public_prediction.fillna(0).astype('int')\n",
    "\n",
    "    if ground_truth_secret.index.isin(prediction_series.index).any():\n",
    "        secret_prediction = prediction_series[ground_truth_secret.index]\n",
    "\n",
    "    secret_prediction = secret_prediction.fillna(0).astype('int')\n",
    "    \n",
    "   \n",
    "\n",
    "    print (mcc(ground_truth_public, public_prediction),\n",
    "              mcc(ground_truth_secret, secret_prediction))\n",
    "    print('--'*17)\n",
    "    print (\"AVG : \" , (mcc(ground_truth_public, public_prediction)+\n",
    "              mcc(ground_truth_secret, secret_prediction))/2)"
   ]
  },
  {
   "cell_type": "markdown",
   "metadata": {},
   "source": [
    "## bagging"
   ]
  },
  {
   "cell_type": "code",
   "execution_count": 107,
   "metadata": {},
   "outputs": [
    {
     "name": "stderr",
     "output_type": "stream",
     "text": [
      "C:\\Users\\python\\Anaconda3\\lib\\site-packages\\sklearn\\preprocessing\\label.py:151: DeprecationWarning: The truth value of an empty array is ambiguous. Returning False, but in future this will result in an error. Use `array.size > 0` to check that an array is not empty.\n",
      "  if diff:\n",
      "C:\\Users\\python\\Anaconda3\\lib\\site-packages\\sklearn\\preprocessing\\label.py:151: DeprecationWarning: The truth value of an empty array is ambiguous. Returning False, but in future this will result in an error. Use `array.size > 0` to check that an array is not empty.\n",
      "  if diff:\n"
     ]
    },
    {
     "name": "stdout",
     "output_type": "stream",
     "text": [
      "1288\n",
      "354\n"
     ]
    }
   ],
   "source": [
    "bag = 1\n",
    "testbag = 1\n",
    "\n",
    "\n",
    "if testbag:\n",
    "    y_XGB = XGBModel.predict(X_test)\n",
    "    y_RF = RFModel.predict(X_test)\n",
    "    Y_Lgb = Model.predict(X_test)\n",
    "    \n",
    "    \n",
    "    \n",
    "if bag:\n",
    "    AA = pd.DataFrame(data = {\"XGB\":y_XGB,\"RF\":y_RF,\"LGBM\":Y_Lgb})\n",
    "    AA['Sum'] = AA.sum(axis = 1).astype(\"int\")\n",
    "    AA['Sum/3'] = AA['Sum']/3\n",
    "    print(len(AA[AA['Sum/3']>0.2]))\n",
    "    print(len(AA[AA['Sum/3']>0.7]))"
   ]
  },
  {
   "cell_type": "code",
   "execution_count": 108,
   "metadata": {},
   "outputs": [],
   "source": [
    "if not testbag and bag:\n",
    "    y_pred = (AA['Sum/3']>0.2).values*1\n",
    "    print(mcc(y_val, y_pred))\n",
    "\n",
    "if testbag:\n",
    "    y_sub = (AA['Sum/3']>0.2).values*1   "
   ]
  },
  {
   "cell_type": "markdown",
   "metadata": {},
   "source": [
    "# results log"
   ]
  },
  {
   "cell_type": "code",
   "execution_count": 110,
   "metadata": {},
   "outputs": [
    {
     "data": {
      "text/html": [
       "<div>\n",
       "<style scoped>\n",
       "    .dataframe tbody tr th:only-of-type {\n",
       "        vertical-align: middle;\n",
       "    }\n",
       "\n",
       "    .dataframe tbody tr th {\n",
       "        vertical-align: top;\n",
       "    }\n",
       "\n",
       "    .dataframe thead th {\n",
       "        text-align: right;\n",
       "    }\n",
       "</style>\n",
       "<table border=\"1\" class=\"dataframe\">\n",
       "  <thead>\n",
       "    <tr style=\"text-align: right;\">\n",
       "      <th></th>\n",
       "      <th>TrainShape</th>\n",
       "      <th>TestShape</th>\n",
       "      <th>ModelName</th>\n",
       "      <th>0 Value</th>\n",
       "      <th>1 Value</th>\n",
       "      <th>Notes</th>\n",
       "      <th>Score</th>\n",
       "      <th>LeaderBoardScore</th>\n",
       "      <th>RF_mcc</th>\n",
       "      <th>NB_mcc</th>\n",
       "    </tr>\n",
       "  </thead>\n",
       "  <tbody>\n",
       "    <tr>\n",
       "      <th>0</th>\n",
       "      <td>(1089580, 15)</td>\n",
       "      <td>(272396, 15)</td>\n",
       "      <td>LGBMClassifier</td>\n",
       "      <td>270655</td>\n",
       "      <td>1741</td>\n",
       "      <td>Baseline</td>\n",
       "      <td>0.327996</td>\n",
       "      <td>0.287897</td>\n",
       "      <td>0.314285</td>\n",
       "      <td>0.144054</td>\n",
       "    </tr>\n",
       "    <tr>\n",
       "      <th>1</th>\n",
       "      <td>(1047083, 24)</td>\n",
       "      <td>(261771, 24)</td>\n",
       "      <td>LGBMClassifier</td>\n",
       "      <td>259476</td>\n",
       "      <td>2295</td>\n",
       "      <td>Users Baseline</td>\n",
       "      <td>0.353634</td>\n",
       "      <td>0.308732</td>\n",
       "      <td>0.296800</td>\n",
       "      <td>0.144061</td>\n",
       "    </tr>\n",
       "    <tr>\n",
       "      <th>2</th>\n",
       "      <td>(1046863, 58)</td>\n",
       "      <td>(261716, 58)</td>\n",
       "      <td>LGBMClassifier</td>\n",
       "      <td>257904</td>\n",
       "      <td>3812</td>\n",
       "      <td>events Baseline</td>\n",
       "      <td>0.503231</td>\n",
       "      <td>0.483097</td>\n",
       "      <td>0.392189</td>\n",
       "      <td>0.137709</td>\n",
       "    </tr>\n",
       "    <tr>\n",
       "      <th>3</th>\n",
       "      <td>(1046863, 62)</td>\n",
       "      <td>(261716, 62)</td>\n",
       "      <td>LGBMClassifier</td>\n",
       "      <td>257934</td>\n",
       "      <td>3782</td>\n",
       "      <td>subs Baseline</td>\n",
       "      <td>0.503521</td>\n",
       "      <td>0.471862</td>\n",
       "      <td>0.395821</td>\n",
       "      <td>0.131522</td>\n",
       "    </tr>\n",
       "    <tr>\n",
       "      <th>4</th>\n",
       "      <td>(1046863, 61)</td>\n",
       "      <td>(261716, 61)</td>\n",
       "      <td>LGBMClassifier</td>\n",
       "      <td>257919</td>\n",
       "      <td>3797</td>\n",
       "      <td>bagging &lt;0.2</td>\n",
       "      <td>0.508748</td>\n",
       "      <td>0.520245</td>\n",
       "      <td>0.420534</td>\n",
       "      <td>0.131425</td>\n",
       "    </tr>\n",
       "  </tbody>\n",
       "</table>\n",
       "</div>"
      ],
      "text/plain": [
       "      TrainShape     TestShape       ModelName  0 Value  1 Value  \\\n",
       "0  (1089580, 15)  (272396, 15)  LGBMClassifier   270655     1741   \n",
       "1  (1047083, 24)  (261771, 24)  LGBMClassifier   259476     2295   \n",
       "2  (1046863, 58)  (261716, 58)  LGBMClassifier   257904     3812   \n",
       "3  (1046863, 62)  (261716, 62)  LGBMClassifier   257934     3782   \n",
       "4  (1046863, 61)  (261716, 61)  LGBMClassifier   257919     3797   \n",
       "\n",
       "             Notes     Score  LeaderBoardScore    RF_mcc    NB_mcc  \n",
       "0         Baseline  0.327996          0.287897  0.314285  0.144054  \n",
       "1   Users Baseline  0.353634          0.308732  0.296800  0.144061  \n",
       "2  events Baseline  0.503231          0.483097  0.392189  0.137709  \n",
       "3    subs Baseline  0.503521          0.471862  0.395821  0.131522  \n",
       "4     bagging <0.2  0.508748          0.520245  0.420534  0.131425  "
      ]
     },
     "metadata": {},
     "output_type": "display_data"
    }
   ],
   "source": [
    "try :\n",
    "    Logs = pd.read_excel(\"log.xlsx\",index_col=[0])\n",
    "    display(Logs.head())\n",
    "except :\n",
    "    Logs = pd.DataFrame()\n",
    "    print(\"file not exist\")"
   ]
  },
  {
   "cell_type": "code",
   "execution_count": 111,
   "metadata": {},
   "outputs": [],
   "source": [
    "import datetime\n",
    "log = pd.DataFrame()\n",
    "log.loc[0,'TrainShape'] = str(X_train.shape)\n",
    "log.loc[0,'TestShape'] = str(X_val.shape)\n",
    "log.loc[0,'ModelName'] = Model.__class__.__name__\n",
    "log.loc[0,'0 Value'] = np.bincount(y_pred)[0]\n",
    "log.loc[0,'1 Value'] = np.bincount(y_pred)[1]\n",
    "log.loc[0,'Notes'] = \" bagging <0.2\"\n",
    "log.loc[0,'Score'] = mcc(y_val, y_pred)\n",
    "log.loc[0,'LeaderBoardScore'] = (mcc(ground_truth_public, public_prediction)+mcc(ground_truth_secret, secret_prediction))/2\n",
    "log.loc[0,'RF_mcc'] = RF_mcc\n",
    "log.loc[0,'NB_mcc'] = NB_mcc"
   ]
  },
  {
   "cell_type": "code",
   "execution_count": 112,
   "metadata": {},
   "outputs": [
    {
     "data": {
      "text/html": [
       "<div>\n",
       "<style scoped>\n",
       "    .dataframe tbody tr th:only-of-type {\n",
       "        vertical-align: middle;\n",
       "    }\n",
       "\n",
       "    .dataframe tbody tr th {\n",
       "        vertical-align: top;\n",
       "    }\n",
       "\n",
       "    .dataframe thead th {\n",
       "        text-align: right;\n",
       "    }\n",
       "</style>\n",
       "<table border=\"1\" class=\"dataframe\">\n",
       "  <thead>\n",
       "    <tr style=\"text-align: right;\">\n",
       "      <th></th>\n",
       "      <th>TrainShape</th>\n",
       "      <th>TestShape</th>\n",
       "      <th>ModelName</th>\n",
       "      <th>0 Value</th>\n",
       "      <th>1 Value</th>\n",
       "      <th>Notes</th>\n",
       "      <th>Score</th>\n",
       "      <th>LeaderBoardScore</th>\n",
       "      <th>RF_mcc</th>\n",
       "      <th>NB_mcc</th>\n",
       "    </tr>\n",
       "  </thead>\n",
       "  <tbody>\n",
       "    <tr>\n",
       "      <th>1</th>\n",
       "      <td>(1047083, 24)</td>\n",
       "      <td>(261771, 24)</td>\n",
       "      <td>LGBMClassifier</td>\n",
       "      <td>259476.0</td>\n",
       "      <td>2295.0</td>\n",
       "      <td>Users Baseline</td>\n",
       "      <td>0.353634</td>\n",
       "      <td>0.308732</td>\n",
       "      <td>0.296800</td>\n",
       "      <td>0.144061</td>\n",
       "    </tr>\n",
       "    <tr>\n",
       "      <th>2</th>\n",
       "      <td>(1046863, 58)</td>\n",
       "      <td>(261716, 58)</td>\n",
       "      <td>LGBMClassifier</td>\n",
       "      <td>257904.0</td>\n",
       "      <td>3812.0</td>\n",
       "      <td>events Baseline</td>\n",
       "      <td>0.503231</td>\n",
       "      <td>0.483097</td>\n",
       "      <td>0.392189</td>\n",
       "      <td>0.137709</td>\n",
       "    </tr>\n",
       "    <tr>\n",
       "      <th>3</th>\n",
       "      <td>(1046863, 62)</td>\n",
       "      <td>(261716, 62)</td>\n",
       "      <td>LGBMClassifier</td>\n",
       "      <td>257934.0</td>\n",
       "      <td>3782.0</td>\n",
       "      <td>subs Baseline</td>\n",
       "      <td>0.503521</td>\n",
       "      <td>0.471862</td>\n",
       "      <td>0.395821</td>\n",
       "      <td>0.131522</td>\n",
       "    </tr>\n",
       "    <tr>\n",
       "      <th>4</th>\n",
       "      <td>(1046863, 61)</td>\n",
       "      <td>(261716, 61)</td>\n",
       "      <td>LGBMClassifier</td>\n",
       "      <td>257919.0</td>\n",
       "      <td>3797.0</td>\n",
       "      <td>bagging &lt;0.2</td>\n",
       "      <td>0.508748</td>\n",
       "      <td>0.520245</td>\n",
       "      <td>0.420534</td>\n",
       "      <td>0.131425</td>\n",
       "    </tr>\n",
       "    <tr>\n",
       "      <th>5</th>\n",
       "      <td>(1046863, 61)</td>\n",
       "      <td>(261716, 61)</td>\n",
       "      <td>LGBMClassifier</td>\n",
       "      <td>257919.0</td>\n",
       "      <td>3797.0</td>\n",
       "      <td>bagging &lt;0.2</td>\n",
       "      <td>0.508748</td>\n",
       "      <td>0.520245</td>\n",
       "      <td>0.420534</td>\n",
       "      <td>0.131425</td>\n",
       "    </tr>\n",
       "  </tbody>\n",
       "</table>\n",
       "</div>"
      ],
      "text/plain": [
       "      TrainShape     TestShape       ModelName   0 Value  1 Value  \\\n",
       "1  (1047083, 24)  (261771, 24)  LGBMClassifier  259476.0   2295.0   \n",
       "2  (1046863, 58)  (261716, 58)  LGBMClassifier  257904.0   3812.0   \n",
       "3  (1046863, 62)  (261716, 62)  LGBMClassifier  257934.0   3782.0   \n",
       "4  (1046863, 61)  (261716, 61)  LGBMClassifier  257919.0   3797.0   \n",
       "5  (1046863, 61)  (261716, 61)  LGBMClassifier  257919.0   3797.0   \n",
       "\n",
       "             Notes     Score  LeaderBoardScore    RF_mcc    NB_mcc  \n",
       "1   Users Baseline  0.353634          0.308732  0.296800  0.144061  \n",
       "2  events Baseline  0.503231          0.483097  0.392189  0.137709  \n",
       "3    subs Baseline  0.503521          0.471862  0.395821  0.131522  \n",
       "4     bagging <0.2  0.508748          0.520245  0.420534  0.131425  \n",
       "5     bagging <0.2  0.508748          0.520245  0.420534  0.131425  "
      ]
     },
     "execution_count": 112,
     "metadata": {},
     "output_type": "execute_result"
    }
   ],
   "source": [
    "Logs.append(log).reset_index(drop=True).tail()"
   ]
  },
  {
   "cell_type": "code",
   "execution_count": 62,
   "metadata": {},
   "outputs": [],
   "source": [
    "if 1 : #input(\"insert score \")=='y':\n",
    "    Logs.append(log).reset_index(drop=True).to_excel(\"log.xlsx\")"
   ]
  },
  {
   "cell_type": "code",
   "execution_count": null,
   "metadata": {},
   "outputs": [],
   "source": [
    "raise Exception (\"End\")"
   ]
  }
 ],
 "metadata": {
  "kernelspec": {
   "display_name": "Python 3",
   "language": "python",
   "name": "python3"
  },
  "language_info": {
   "codemirror_mode": {
    "name": "ipython",
    "version": 3
   },
   "file_extension": ".py",
   "mimetype": "text/x-python",
   "name": "python",
   "nbconvert_exporter": "python",
   "pygments_lexer": "ipython3",
   "version": "3.6.5"
  }
 },
 "nbformat": 4,
 "nbformat_minor": 2
}
